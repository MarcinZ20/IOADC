{
 "cells": [
  {
   "cell_type": "markdown",
   "metadata": {},
   "source": [
    "# Lab 6 - Problemy wieloagentowe"
   ]
  },
  {
   "cell_type": "markdown",
   "metadata": {},
   "source": [
    "**Wykonali:** Eryk Mikołajek, Jakub Kubicki, Marcin Zub"
   ]
  },
  {
   "cell_type": "code",
   "execution_count": 4,
   "metadata": {},
   "outputs": [],
   "source": [
    "autorom_path = '/Users/marcin/.pyenv/versions/3.10.13/lib/python3.10/site-packages/AutoROM/roms'"
   ]
  },
  {
   "cell_type": "code",
   "execution_count": 10,
   "metadata": {},
   "outputs": [],
   "source": [
    "import os\n",
    "from pathlib import Path\n",
    "\n",
    "import supersuit as ss\n",
    "from pettingzoo.atari import pong_v3\n",
    "from stable_baselines3 import PPO\n",
    "from stable_baselines3.common.env_util import DummyVecEnv\n",
    "from stable_baselines3.common.policies import ActorCriticPolicy\n",
    "from stable_baselines3.common.callbacks import BaseCallback\n",
    "from stable_baselines3.common.vec_env import VecEnvWrapper\n",
    "from pettingzoo.utils.conversions import parallel_wrapper_fn\n",
    "import numpy as np"
   ]
  },
  {
   "cell_type": "markdown",
   "metadata": {},
   "source": [
    "### Środowisko i proces uczenia"
   ]
  },
  {
   "cell_type": "code",
   "execution_count": null,
   "metadata": {},
   "outputs": [],
   "source": [
    "if autorom_path == '':\n",
    "    print('Podaj ścieżkę do pliku autorom')\n",
    "    exit(1)\n",
    "\n",
    "# Ustawienia środowiska\n",
    "env = pong_v3.env(num_players=2, max_cycles=1000, render_mode='human', auto_rom_install_path=Path(autorom_path))\n",
    "env = ss.max_observation_v0(env, 2)\n",
    "env = ss.sticky_actions_v0(env, repeat_action_probability=0.25)\n",
    "env = ss.frame_skip_v0(env, 4)\n",
    "env = ss.frame_stack_v1(env, 4)\n",
    "env = parallel_wrapper_fn(env)\n",
    "\n",
    "#### Callback do zapisu nagród\n",
    "class RewardCallback(BaseCallback):\n",
    "    def __init__(self, verbose=0):\n",
    "        super(RewardCallback, self).__init__(verbose)\n",
    "        self.episode_rewards = []\n",
    "\n",
    "    def _on_step(self) -> bool:\n",
    "        self.episode_rewards.append(self.locals[\"rewards\"])\n",
    "        return True\n",
    "\n",
    "callback = RewardCallback()\n",
    "\n",
    "model = PPO('CnnPolicy', env, verbose=1)\n",
    "model.learn(total_timesteps=10000, callback=callback)"
   ]
  },
  {
   "cell_type": "markdown",
   "metadata": {},
   "source": [
    "### Testowanie modelu"
   ]
  },
  {
   "cell_type": "code",
   "execution_count": null,
   "metadata": {},
   "outputs": [],
   "source": [
    "obs = env.reset()\n",
    "for _ in range(1000):\n",
    "    action, _ = model.predict(obs)\n",
    "    obs, rewards, dones, info = env.step(action)\n",
    "    env.render()\n",
    "\n",
    "env.close()"
   ]
  },
  {
   "cell_type": "markdown",
   "metadata": {},
   "source": [
    "### Wykresy i krzywa uczenia"
   ]
  },
  {
   "cell_type": "code",
   "execution_count": null,
   "metadata": {},
   "outputs": [],
   "source": [
    "import matplotlib.pyplot as plt\n",
    "\n",
    "# Uśrednienie nagród na odcinkach\n",
    "mean_rewards = [np.mean(callback.episode_rewards[i:i + 100]) for i in range(0, len(callback.episode_rewards), 100)]\n",
    "\n",
    "plt.plot(mean_rewards)\n",
    "plt.xlabel('Episodes (x100)')\n",
    "plt.ylabel('Mean Total Reward')\n",
    "plt.title('Learning Curve')\n",
    "plt.show()"
   ]
  }
 ],
 "metadata": {
  "kernelspec": {
   "display_name": "ioadc",
   "language": "python",
   "name": "python3"
  },
  "language_info": {
   "codemirror_mode": {
    "name": "ipython",
    "version": 3
   },
   "file_extension": ".py",
   "mimetype": "text/x-python",
   "name": "python",
   "nbconvert_exporter": "python",
   "pygments_lexer": "ipython3",
   "version": "3.10.13"
  }
 },
 "nbformat": 4,
 "nbformat_minor": 2
}
