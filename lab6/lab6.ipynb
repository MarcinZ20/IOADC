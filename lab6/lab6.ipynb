{
 "cells": [
  {
   "cell_type": "markdown",
   "metadata": {},
   "source": [
    "# Lab 6 - Problemy wieloagentowe"
   ]
  },
  {
   "cell_type": "markdown",
   "metadata": {},
   "source": [
    "**Wykonali:** Eryk Mikołajek, Jakub Kubicki, Marcin Zub"
   ]
  },
  {
   "cell_type": "code",
   "execution_count": 4,
   "metadata": {},
   "outputs": [],
   "source": [
    "autorom_path = '/Users/marcin/.pyenv/versions/3.10.13/lib/python3.10/site-packages/AutoROM/roms'"
   ]
  },
  {
   "cell_type": "code",
   "execution_count": 10,
   "metadata": {},
   "outputs": [],
   "source": [
    "import os\n",
    "from pathlib import Path\n",
    "\n",
    "import supersuit as ss\n",
    "from pettingzoo.atari import pong_v3\n",
    "from stable_baselines3 import PPO\n",
    "from stable_baselines3.common.env_util import DummyVecEnv\n",
    "from stable_baselines3.common.policies import ActorCriticPolicy\n",
    "from stable_baselines3.common.callbacks import BaseCallback\n",
    "from stable_baselines3.common.vec_env import VecEnvWrapper\n",
    "from pettingzoo.utils.conversions import parallel_wrapper_fn\n",
    "import numpy as np"
   ]
  },
  {
   "cell_type": "markdown",
   "metadata": {},
   "source": [
    "### Środowisko i proces uczenia"
   ]
  },
  {
   "cell_type": "code",
   "execution_count": 18,
   "metadata": {},
   "outputs": [
    {
     "ename": "TypeError",
     "evalue": "'aec_to_parallel_wrapper' object is not callable",
     "output_type": "error",
     "traceback": [
      "\u001b[0;31m---------------------------------------------------------------------------\u001b[0m",
      "\u001b[0;31mTypeError\u001b[0m                                 Traceback (most recent call last)",
      "Cell \u001b[0;32mIn[18], line 27\u001b[0m\n\u001b[1;32m     23\u001b[0m         \u001b[38;5;28;01mreturn\u001b[39;00m \u001b[38;5;28;01mTrue\u001b[39;00m\n\u001b[1;32m     25\u001b[0m callback \u001b[38;5;241m=\u001b[39m RewardCallback()\n\u001b[0;32m---> 27\u001b[0m model \u001b[38;5;241m=\u001b[39m PPO(\u001b[38;5;124m'\u001b[39m\u001b[38;5;124mCnnPolicy\u001b[39m\u001b[38;5;124m'\u001b[39m, \u001b[43menv\u001b[49m\u001b[43m(\u001b[49m\u001b[43m)\u001b[49m, verbose\u001b[38;5;241m=\u001b[39m\u001b[38;5;241m1\u001b[39m)\n\u001b[1;32m     28\u001b[0m model\u001b[38;5;241m.\u001b[39mlearn(total_timesteps\u001b[38;5;241m=\u001b[39m\u001b[38;5;241m10000\u001b[39m, callback\u001b[38;5;241m=\u001b[39mcallback)\n",
      "\u001b[0;31mTypeError\u001b[0m: 'aec_to_parallel_wrapper' object is not callable"
     ]
    }
   ],
   "source": [
    "if autorom_path == '':\n",
    "    print('Podaj ścieżkę do pliku autorom')\n",
    "    exit(1)\n",
    "\n",
    "# Ustawienia środowiska\n",
    "env = pong_v3.env(num_players=2, max_cycles=1000, render_mode='human', auto_rom_install_path=Path(autorom_path))\n",
    "env = ss.max_observation_v0(env, 2)\n",
    "env = ss.sticky_actions_v0(env, repeat_action_probability=0.25)\n",
    "env = ss.frame_skip_v0(env, 4)\n",
    "env = ss.frame_stack_v1(env, 4)\n",
    "env = parallel_wrapper_fn(env)\n",
    "\n",
    "#### Callback do zapisu nagród\n",
    "class RewardCallback(BaseCallback):\n",
    "    def __init__(self, verbose=0):\n",
    "        super(RewardCallback, self).__init__(verbose)\n",
    "        self.episode_rewards = []\n",
    "\n",
    "    def _on_step(self) -> bool:\n",
    "        self.episode_rewards.append(self.locals[\"rewards\"])\n",
    "        return True\n",
    "\n",
    "callback = RewardCallback()\n",
    "\n",
    "model = PPO('CnnPolicy', env, verbose=1)\n",
    "model.learn(total_timesteps=10000, callback=callback)"
   ]
  },
  {
   "cell_type": "markdown",
   "metadata": {},
   "source": [
    "### Testowanie modelu"
   ]
  },
  {
   "cell_type": "code",
   "execution_count": null,
   "metadata": {},
   "outputs": [],
   "source": [
    "obs = env.reset()\n",
    "for _ in range(1000):\n",
    "    action, _ = model.predict(obs)\n",
    "    obs, rewards, dones, info = env.step(action)\n",
    "    env.render()\n",
    "\n",
    "env.close()"
   ]
  },
  {
   "cell_type": "markdown",
   "metadata": {},
   "source": [
    "### Wykresy i krzywa uczenia"
   ]
  },
  {
   "cell_type": "code",
   "execution_count": null,
   "metadata": {},
   "outputs": [],
   "source": [
    "import matplotlib.pyplot as plt\n",
    "\n",
    "# Uśrednienie nagród na odcinkach\n",
    "mean_rewards = [np.mean(callback.episode_rewards[i:i + 100]) for i in range(0, len(callback.episode_rewards), 100)]\n",
    "\n",
    "plt.plot(mean_rewards)\n",
    "plt.xlabel('Episodes (x100)')\n",
    "plt.ylabel('Mean Total Reward')\n",
    "plt.title('Learning Curve')\n",
    "plt.show()"
   ]
  }
 ],
 "metadata": {
  "kernelspec": {
   "display_name": "ioadc",
   "language": "python",
   "name": "python3"
  },
  "language_info": {
   "codemirror_mode": {
    "name": "ipython",
    "version": 3
   },
   "file_extension": ".py",
   "mimetype": "text/x-python",
   "name": "python",
   "nbconvert_exporter": "python",
   "pygments_lexer": "ipython3",
   "version": "3.10.13"
  }
 },
 "nbformat": 4,
 "nbformat_minor": 2
}
